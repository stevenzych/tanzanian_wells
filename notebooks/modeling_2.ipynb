{
 "cells": [
  {
   "cell_type": "markdown",
   "metadata": {},
   "source": [
    "# Introduction"
   ]
  },
  {
   "cell_type": "markdown",
   "metadata": {},
   "source": [
    "This notebook is for modeling on `data_cleaned.csv` from `cleaning.ipynb`."
   ]
  },
  {
   "cell_type": "code",
   "execution_count": 133,
   "metadata": {},
   "outputs": [],
   "source": [
    "import pandas as pd\n",
    "pd.set_option(\"max_columns\", None)\n",
    "\n",
    "import numpy as np\n",
    "\n",
    "import matplotlib.pyplot as plt\n",
    "import seaborn as sns\n",
    "%matplotlib inline\n",
    "\n",
    "from sklearn.model_selection import train_test_split\n",
    "from sklearn.linear_model import LogisticRegression\n",
    "from sklearn.neighbors import KNeighborsClassifier\n",
    "from sklearn.model_selection import GridSearchCV\n",
    "from sklearn.preprocessing import StandardScaler\n",
    "from sklearn.pipeline import Pipeline"
   ]
  },
  {
   "cell_type": "markdown",
   "metadata": {},
   "source": [
    "# General Helper Functions"
   ]
  },
  {
   "cell_type": "code",
   "execution_count": 12,
   "metadata": {},
   "outputs": [],
   "source": [
    "# Returns top-N values for all columns in ls.\n",
    "def many_count(ls, df, n=5):\n",
    "    for i in ls:\n",
    "        print(df[i].value_counts(normalize=True).iloc[:n])\n",
    "        print('---------------')"
   ]
  },
  {
   "cell_type": "code",
   "execution_count": 13,
   "metadata": {},
   "outputs": [],
   "source": [
    "# Returns all unique values for columns in ls.\n",
    "def many_unique(ls, df):\n",
    "    for i in ls:\n",
    "        print(df[i].unique())\n",
    "        print('---------------')"
   ]
  },
  {
   "cell_type": "code",
   "execution_count": 73,
   "metadata": {},
   "outputs": [],
   "source": [
    "# Creates dummies of top-N most common values in column and drops original.\n",
    "def top_dummies(ls, df, n=5, drop=True):\n",
    "    for x in ls:\n",
    "        for i in df[x].value_counts().index[:n]:\n",
    "            df[x + \"_\" + i.replace(\" \", \"_\")] = (df[x] == i).astype(int)\n",
    "        if drop == True:\n",
    "            df.drop(x, axis=1, inplace=True)"
   ]
  },
  {
   "cell_type": "markdown",
   "metadata": {},
   "source": [
    "# Importing Data"
   ]
  },
  {
   "cell_type": "code",
   "execution_count": 109,
   "metadata": {},
   "outputs": [
    {
     "data": {
      "text/html": [
       "<div>\n",
       "<style scoped>\n",
       "    .dataframe tbody tr th:only-of-type {\n",
       "        vertical-align: middle;\n",
       "    }\n",
       "\n",
       "    .dataframe tbody tr th {\n",
       "        vertical-align: top;\n",
       "    }\n",
       "\n",
       "    .dataframe thead th {\n",
       "        text-align: right;\n",
       "    }\n",
       "</style>\n",
       "<table border=\"1\" class=\"dataframe\">\n",
       "  <thead>\n",
       "    <tr style=\"text-align: right;\">\n",
       "      <th></th>\n",
       "      <th>id</th>\n",
       "      <th>amount_tsh</th>\n",
       "      <th>funder</th>\n",
       "      <th>gps_height</th>\n",
       "      <th>installer</th>\n",
       "      <th>longitude</th>\n",
       "      <th>latitude</th>\n",
       "      <th>wpt_name</th>\n",
       "      <th>basin</th>\n",
       "      <th>subvillage</th>\n",
       "      <th>region</th>\n",
       "      <th>region_code</th>\n",
       "      <th>district_code</th>\n",
       "      <th>lga</th>\n",
       "      <th>ward</th>\n",
       "      <th>population</th>\n",
       "      <th>public_meeting</th>\n",
       "      <th>recorded_by</th>\n",
       "      <th>scheme_management</th>\n",
       "      <th>permit</th>\n",
       "      <th>construction_year</th>\n",
       "      <th>extraction_type_class</th>\n",
       "      <th>management</th>\n",
       "      <th>payment</th>\n",
       "      <th>quality_group</th>\n",
       "      <th>quantity</th>\n",
       "      <th>source</th>\n",
       "      <th>waterpoint_type</th>\n",
       "      <th>status_group</th>\n",
       "      <th>day_of_year</th>\n",
       "      <th>month</th>\n",
       "    </tr>\n",
       "  </thead>\n",
       "  <tbody>\n",
       "    <tr>\n",
       "      <td>0</td>\n",
       "      <td>69572</td>\n",
       "      <td>6000.0</td>\n",
       "      <td>Roman</td>\n",
       "      <td>1390</td>\n",
       "      <td>Roman</td>\n",
       "      <td>34.938093</td>\n",
       "      <td>-9.856322</td>\n",
       "      <td>none</td>\n",
       "      <td>Lake Nyasa</td>\n",
       "      <td>Mnyusi B</td>\n",
       "      <td>Iringa</td>\n",
       "      <td>11</td>\n",
       "      <td>5</td>\n",
       "      <td>Ludewa</td>\n",
       "      <td>Mundindi</td>\n",
       "      <td>109</td>\n",
       "      <td>True</td>\n",
       "      <td>GeoData Consultants Ltd</td>\n",
       "      <td>VWC</td>\n",
       "      <td>False</td>\n",
       "      <td>1999</td>\n",
       "      <td>gravity</td>\n",
       "      <td>vwc</td>\n",
       "      <td>pay annually</td>\n",
       "      <td>good</td>\n",
       "      <td>enough</td>\n",
       "      <td>spring</td>\n",
       "      <td>communal standpipe</td>\n",
       "      <td>functional</td>\n",
       "      <td>73</td>\n",
       "      <td>3</td>\n",
       "    </tr>\n",
       "    <tr>\n",
       "      <td>1</td>\n",
       "      <td>8776</td>\n",
       "      <td>0.0</td>\n",
       "      <td>Grumeti</td>\n",
       "      <td>1399</td>\n",
       "      <td>GRUMETI</td>\n",
       "      <td>34.698766</td>\n",
       "      <td>-2.147466</td>\n",
       "      <td>Zahanati</td>\n",
       "      <td>Lake Victoria</td>\n",
       "      <td>Nyamara</td>\n",
       "      <td>Mara</td>\n",
       "      <td>20</td>\n",
       "      <td>2</td>\n",
       "      <td>Serengeti</td>\n",
       "      <td>Natta</td>\n",
       "      <td>280</td>\n",
       "      <td>True</td>\n",
       "      <td>GeoData Consultants Ltd</td>\n",
       "      <td>Other</td>\n",
       "      <td>True</td>\n",
       "      <td>2010</td>\n",
       "      <td>gravity</td>\n",
       "      <td>wug</td>\n",
       "      <td>never pay</td>\n",
       "      <td>good</td>\n",
       "      <td>insufficient</td>\n",
       "      <td>rainwater harvesting</td>\n",
       "      <td>communal standpipe</td>\n",
       "      <td>functional</td>\n",
       "      <td>65</td>\n",
       "      <td>3</td>\n",
       "    </tr>\n",
       "    <tr>\n",
       "      <td>2</td>\n",
       "      <td>34310</td>\n",
       "      <td>25.0</td>\n",
       "      <td>Lottery Club</td>\n",
       "      <td>686</td>\n",
       "      <td>World vision</td>\n",
       "      <td>37.460664</td>\n",
       "      <td>-3.821329</td>\n",
       "      <td>Kwa Mahundi</td>\n",
       "      <td>Pangani</td>\n",
       "      <td>Majengo</td>\n",
       "      <td>Manyara</td>\n",
       "      <td>21</td>\n",
       "      <td>4</td>\n",
       "      <td>Simanjiro</td>\n",
       "      <td>Ngorika</td>\n",
       "      <td>250</td>\n",
       "      <td>True</td>\n",
       "      <td>GeoData Consultants Ltd</td>\n",
       "      <td>VWC</td>\n",
       "      <td>True</td>\n",
       "      <td>2009</td>\n",
       "      <td>gravity</td>\n",
       "      <td>vwc</td>\n",
       "      <td>pay per bucket</td>\n",
       "      <td>good</td>\n",
       "      <td>enough</td>\n",
       "      <td>dam</td>\n",
       "      <td>communal standpipe multiple</td>\n",
       "      <td>functional</td>\n",
       "      <td>56</td>\n",
       "      <td>2</td>\n",
       "    </tr>\n",
       "    <tr>\n",
       "      <td>3</td>\n",
       "      <td>67743</td>\n",
       "      <td>0.0</td>\n",
       "      <td>Unicef</td>\n",
       "      <td>263</td>\n",
       "      <td>UNICEF</td>\n",
       "      <td>38.486161</td>\n",
       "      <td>-11.155298</td>\n",
       "      <td>Zahanati Ya Nanyumbu</td>\n",
       "      <td>Ruvuma / Southern Coast</td>\n",
       "      <td>Mahakamani</td>\n",
       "      <td>Mtwara</td>\n",
       "      <td>90</td>\n",
       "      <td>63</td>\n",
       "      <td>Nanyumbu</td>\n",
       "      <td>Nanyumbu</td>\n",
       "      <td>58</td>\n",
       "      <td>True</td>\n",
       "      <td>GeoData Consultants Ltd</td>\n",
       "      <td>VWC</td>\n",
       "      <td>True</td>\n",
       "      <td>1986</td>\n",
       "      <td>submersible</td>\n",
       "      <td>vwc</td>\n",
       "      <td>never pay</td>\n",
       "      <td>good</td>\n",
       "      <td>dry</td>\n",
       "      <td>machine dbh</td>\n",
       "      <td>communal standpipe multiple</td>\n",
       "      <td>non functional</td>\n",
       "      <td>28</td>\n",
       "      <td>1</td>\n",
       "    </tr>\n",
       "    <tr>\n",
       "      <td>4</td>\n",
       "      <td>19728</td>\n",
       "      <td>0.0</td>\n",
       "      <td>Action In A</td>\n",
       "      <td>0</td>\n",
       "      <td>Artisan</td>\n",
       "      <td>31.130847</td>\n",
       "      <td>-1.825359</td>\n",
       "      <td>Shuleni</td>\n",
       "      <td>Lake Victoria</td>\n",
       "      <td>Kyanyamisa</td>\n",
       "      <td>Kagera</td>\n",
       "      <td>18</td>\n",
       "      <td>1</td>\n",
       "      <td>Karagwe</td>\n",
       "      <td>Nyakasimbi</td>\n",
       "      <td>0</td>\n",
       "      <td>True</td>\n",
       "      <td>GeoData Consultants Ltd</td>\n",
       "      <td>WUA</td>\n",
       "      <td>True</td>\n",
       "      <td>0</td>\n",
       "      <td>gravity</td>\n",
       "      <td>other</td>\n",
       "      <td>never pay</td>\n",
       "      <td>good</td>\n",
       "      <td>seasonal</td>\n",
       "      <td>rainwater harvesting</td>\n",
       "      <td>communal standpipe</td>\n",
       "      <td>functional</td>\n",
       "      <td>194</td>\n",
       "      <td>7</td>\n",
       "    </tr>\n",
       "  </tbody>\n",
       "</table>\n",
       "</div>"
      ],
      "text/plain": [
       "      id  amount_tsh        funder  gps_height     installer  longitude  \\\n",
       "0  69572      6000.0         Roman        1390         Roman  34.938093   \n",
       "1   8776         0.0       Grumeti        1399       GRUMETI  34.698766   \n",
       "2  34310        25.0  Lottery Club         686  World vision  37.460664   \n",
       "3  67743         0.0        Unicef         263        UNICEF  38.486161   \n",
       "4  19728         0.0   Action In A           0       Artisan  31.130847   \n",
       "\n",
       "    latitude              wpt_name                    basin  subvillage  \\\n",
       "0  -9.856322                  none               Lake Nyasa    Mnyusi B   \n",
       "1  -2.147466              Zahanati            Lake Victoria     Nyamara   \n",
       "2  -3.821329           Kwa Mahundi                  Pangani     Majengo   \n",
       "3 -11.155298  Zahanati Ya Nanyumbu  Ruvuma / Southern Coast  Mahakamani   \n",
       "4  -1.825359               Shuleni            Lake Victoria  Kyanyamisa   \n",
       "\n",
       "    region  region_code  district_code        lga        ward  population  \\\n",
       "0   Iringa           11              5     Ludewa    Mundindi         109   \n",
       "1     Mara           20              2  Serengeti       Natta         280   \n",
       "2  Manyara           21              4  Simanjiro     Ngorika         250   \n",
       "3   Mtwara           90             63   Nanyumbu    Nanyumbu          58   \n",
       "4   Kagera           18              1    Karagwe  Nyakasimbi           0   \n",
       "\n",
       "   public_meeting              recorded_by scheme_management  permit  \\\n",
       "0            True  GeoData Consultants Ltd               VWC   False   \n",
       "1            True  GeoData Consultants Ltd             Other    True   \n",
       "2            True  GeoData Consultants Ltd               VWC    True   \n",
       "3            True  GeoData Consultants Ltd               VWC    True   \n",
       "4            True  GeoData Consultants Ltd               WUA    True   \n",
       "\n",
       "   construction_year extraction_type_class management         payment  \\\n",
       "0               1999               gravity        vwc    pay annually   \n",
       "1               2010               gravity        wug       never pay   \n",
       "2               2009               gravity        vwc  pay per bucket   \n",
       "3               1986           submersible        vwc       never pay   \n",
       "4                  0               gravity      other       never pay   \n",
       "\n",
       "  quality_group      quantity                source  \\\n",
       "0          good        enough                spring   \n",
       "1          good  insufficient  rainwater harvesting   \n",
       "2          good        enough                   dam   \n",
       "3          good           dry           machine dbh   \n",
       "4          good      seasonal  rainwater harvesting   \n",
       "\n",
       "               waterpoint_type    status_group  day_of_year  month  \n",
       "0           communal standpipe      functional           73      3  \n",
       "1           communal standpipe      functional           65      3  \n",
       "2  communal standpipe multiple      functional           56      2  \n",
       "3  communal standpipe multiple  non functional           28      1  \n",
       "4           communal standpipe      functional          194      7  "
      ]
     },
     "execution_count": 109,
     "metadata": {},
     "output_type": "execute_result"
    }
   ],
   "source": [
    "df = pd.read_csv('../data/data_cleaned.csv')\n",
    "df.drop('Unnamed: 0', axis=1, inplace=True)\n",
    "df.head()"
   ]
  },
  {
   "cell_type": "markdown",
   "metadata": {},
   "source": [
    "# General Preprocessing"
   ]
  },
  {
   "cell_type": "markdown",
   "metadata": {},
   "source": [
    "## Replacing Target Values"
   ]
  },
  {
   "cell_type": "code",
   "execution_count": 110,
   "metadata": {},
   "outputs": [
    {
     "data": {
      "text/plain": [
       "array([0, 2, 1], dtype=int64)"
      ]
     },
     "execution_count": 110,
     "metadata": {},
     "output_type": "execute_result"
    }
   ],
   "source": [
    "df.status_group.replace({'functional':0, 'functional needs repair':1, 'non functional':2}, inplace=True)\n",
    "df.status_group.unique()"
   ]
  },
  {
   "cell_type": "markdown",
   "metadata": {},
   "source": [
    "## Creating Selected Dummies"
   ]
  },
  {
   "cell_type": "markdown",
   "metadata": {},
   "source": [
    "In the section below, I'm going to sort out the categorical columns from the continuous and select which categorical columns to make dummies out of. There are too many to reasonably do it for all of them, so some executive choices must be made. If the models end up performing poorly, this step may be revisited and done differently."
   ]
  },
  {
   "cell_type": "code",
   "execution_count": 113,
   "metadata": {},
   "outputs": [
    {
     "name": "stdout",
     "output_type": "stream",
     "text": [
      "19\n",
      "['funder', 'installer', 'wpt_name', 'basin', 'subvillage', 'region', 'lga', 'ward', 'public_meeting', 'recorded_by', 'scheme_management', 'permit', 'extraction_type_class', 'management', 'payment', 'quality_group', 'quantity', 'source', 'waterpoint_type']\n"
     ]
    }
   ],
   "source": [
    "cats = []\n",
    "for i in df.columns:\n",
    "    if (type(df[i][0]) != np.int64) & (type(df[i][0]) != np.float64):\n",
    "        cats.append(i)\n",
    "\n",
    "print(len(cats))\n",
    "print(cats)"
   ]
  },
  {
   "cell_type": "code",
   "execution_count": 114,
   "metadata": {},
   "outputs": [
    {
     "name": "stdout",
     "output_type": "stream",
     "text": [
      "12\n",
      "['id', 'amount_tsh', 'gps_height', 'longitude', 'latitude', 'region_code', 'district_code', 'population', 'construction_year', 'status_group', 'day_of_year', 'month']\n"
     ]
    }
   ],
   "source": [
    "conts = [i for i in df.columns if i not in cats]\n",
    "\n",
    "print(len(conts))\n",
    "print(conts)"
   ]
  },
  {
   "cell_type": "code",
   "execution_count": 115,
   "metadata": {
    "scrolled": true
   },
   "outputs": [
    {
     "name": "stdout",
     "output_type": "stream",
     "text": [
      "Government Of Tanzania    0.162903\n",
      "Danida                    0.056125\n",
      "Hesawa                    0.039472\n",
      "Rwssp                     0.024971\n",
      "Kkkt                      0.023056\n",
      "Name: funder, dtype: float64\n",
      "---------------\n",
      "DWE           0.312474\n",
      "Government    0.032882\n",
      "RWE           0.021955\n",
      "DANIDA        0.018906\n",
      "Commu         0.016297\n",
      "Name: installer, dtype: float64\n",
      "---------------\n",
      "none         0.060292\n",
      "Shuleni      0.029037\n",
      "Zahanati     0.013739\n",
      "Msikitini    0.009029\n",
      "Kanisani     0.005302\n",
      "Name: wpt_name, dtype: float64\n",
      "---------------\n",
      "Lake Victoria      0.173440\n",
      "Pangani            0.151451\n",
      "Rufiji             0.135120\n",
      "Internal           0.131884\n",
      "Lake Tanganyika    0.108963\n",
      "Name: basin, dtype: float64\n",
      "---------------\n",
      "Madukani    0.008606\n",
      "Shuleni     0.008572\n",
      "Majengo     0.008504\n",
      "Kati        0.006319\n",
      "Mtakuja     0.004438\n",
      "Name: subvillage, dtype: float64\n",
      "---------------\n",
      "Iringa         0.089685\n",
      "Shinyanga      0.084399\n",
      "Mbeya          0.078588\n",
      "Kilimanjaro    0.074184\n",
      "Morogoro       0.067865\n",
      "Name: region, dtype: float64\n",
      "---------------\n",
      "Njombe          0.042403\n",
      "Arusha Rural    0.021210\n",
      "Moshi Rural     0.021193\n",
      "Bariadi         0.019939\n",
      "Rungwe          0.018737\n",
      "Name: lga, dtype: float64\n",
      "---------------\n",
      "Igosi        0.005201\n",
      "Imalinyi     0.004269\n",
      "Siha Kati    0.003930\n",
      "Mdandu       0.003913\n",
      "Nduruma      0.003676\n",
      "Name: ward, dtype: float64\n",
      "---------------\n",
      "True     0.909434\n",
      "False    0.090566\n",
      "Name: public_meeting, dtype: float64\n",
      "---------------\n",
      "GeoData Consultants Ltd    1.0\n",
      "Name: recorded_by, dtype: float64\n",
      "---------------\n",
      "VWC                0.661336\n",
      "WUG                0.094259\n",
      "Water authority    0.056870\n",
      "WUA                0.052381\n",
      "Water Board        0.049416\n",
      "Name: scheme_management, dtype: float64\n",
      "---------------\n",
      "True     0.692134\n",
      "False    0.307866\n",
      "Name: permit, dtype: float64\n",
      "---------------\n",
      "gravity        0.451405\n",
      "handpump       0.278727\n",
      "other          0.108777\n",
      "submersible    0.102848\n",
      "motorpump      0.048620\n",
      "Name: extraction_type_class, dtype: float64\n",
      "---------------\n",
      "vwc                 0.680835\n",
      "wug                 0.110369\n",
      "water board         0.049687\n",
      "wua                 0.042945\n",
      "private operator    0.032730\n",
      "Name: management, dtype: float64\n",
      "---------------\n",
      "never pay                0.427688\n",
      "pay per bucket           0.148520\n",
      "pay monthly              0.140609\n",
      "unknown                  0.138186\n",
      "pay when scheme fails    0.066306\n",
      "Name: payment, dtype: float64\n",
      "---------------\n",
      "good       0.858324\n",
      "salty      0.084298\n",
      "unknown    0.031781\n",
      "milky      0.013620\n",
      "colored    0.008301\n",
      "Name: quality_group, dtype: float64\n",
      "---------------\n",
      "enough          0.560521\n",
      "insufficient    0.254451\n",
      "dry             0.103119\n",
      "seasonal        0.068543\n",
      "unknown         0.013366\n",
      "Name: quantity, dtype: float64\n",
      "---------------\n",
      "spring                  0.286063\n",
      "shallow well            0.284894\n",
      "machine dbh             0.183791\n",
      "river                   0.162835\n",
      "rainwater harvesting    0.038845\n",
      "Name: source, dtype: float64\n",
      "---------------\n",
      "communal standpipe             0.481238\n",
      "hand pump                      0.296210\n",
      "other                          0.107930\n",
      "communal standpipe multiple    0.099256\n",
      "improved spring                0.013282\n",
      "Name: waterpoint_type, dtype: float64\n",
      "---------------\n"
     ]
    }
   ],
   "source": [
    "many_count(cats, df)"
   ]
  },
  {
   "cell_type": "markdown",
   "metadata": {},
   "source": [
    "Columns to be given 5 dummies: `extraction_type_class` (because of relationship to function of well)\n",
    "\n",
    "Columns to be given 2 dummies: `management` (because EDA suggested relationship between top management values and well failure), `quality_group` (same as previous but with water quality), `waterpoint_type` (because of relationship to function of well)\n",
    "\n",
    "Columns to make binary of top value: `public_meeting`, `permit`, `payment`, `funder`, `installer`\n",
    "\n",
    "> *Next columns in the batting order to be tried out if these fail:* `source`, `quantity`, `basin`\n",
    "\n",
    "The cells below replace the aforementioned columns with their set amount of dummies and drops all remaining object columns in the DataFrame."
   ]
  },
  {
   "cell_type": "code",
   "execution_count": 116,
   "metadata": {},
   "outputs": [],
   "source": [
    "five_dum = ['extraction_type_class']\n",
    "two_dum = ['management', 'quality_group', 'waterpoint_type']\n",
    "one_dum = ['payment', 'funder', 'installer']\n",
    "one_dum_already_bool = ['public_meeting', 'permit']"
   ]
  },
  {
   "cell_type": "code",
   "execution_count": 117,
   "metadata": {},
   "outputs": [],
   "source": [
    "dum_df = df.copy()"
   ]
  },
  {
   "cell_type": "code",
   "execution_count": 118,
   "metadata": {},
   "outputs": [],
   "source": [
    "top_dummies(five_dum, dum_df, n=5)\n",
    "top_dummies(two_dum, dum_df, n=2)\n",
    "top_dummies(one_dum, dum_df, n=1)"
   ]
  },
  {
   "cell_type": "code",
   "execution_count": 119,
   "metadata": {},
   "outputs": [],
   "source": [
    "for i in one_dum_already_bool:\n",
    "    dum_df[i] = dum_df[i].astype('int')"
   ]
  },
  {
   "cell_type": "code",
   "execution_count": 120,
   "metadata": {},
   "outputs": [],
   "source": [
    "for i in dum_df.columns:\n",
    "    if dum_df[i].dtype == 'O':\n",
    "        dum_df.drop(i, axis=1, inplace=True)"
   ]
  },
  {
   "cell_type": "code",
   "execution_count": 121,
   "metadata": {},
   "outputs": [
    {
     "name": "stdout",
     "output_type": "stream",
     "text": [
      "<class 'pandas.core.frame.DataFrame'>\n",
      "RangeIndex: 59029 entries, 0 to 59028\n",
      "Data columns (total 28 columns):\n",
      "id                                    59029 non-null int64\n",
      "amount_tsh                            59029 non-null float64\n",
      "gps_height                            59029 non-null int64\n",
      "longitude                             59029 non-null float64\n",
      "latitude                              59029 non-null float64\n",
      "region_code                           59029 non-null int64\n",
      "district_code                         59029 non-null int64\n",
      "population                            59029 non-null int64\n",
      "public_meeting                        59029 non-null int32\n",
      "permit                                59029 non-null int32\n",
      "construction_year                     59029 non-null int64\n",
      "status_group                          59029 non-null int64\n",
      "day_of_year                           59029 non-null int64\n",
      "month                                 59029 non-null int64\n",
      "extraction_type_class_gravity         59029 non-null int32\n",
      "extraction_type_class_handpump        59029 non-null int32\n",
      "extraction_type_class_other           59029 non-null int32\n",
      "extraction_type_class_submersible     59029 non-null int32\n",
      "extraction_type_class_motorpump       59029 non-null int32\n",
      "management_vwc                        59029 non-null int32\n",
      "management_wug                        59029 non-null int32\n",
      "quality_group_good                    59029 non-null int32\n",
      "quality_group_salty                   59029 non-null int32\n",
      "waterpoint_type_communal_standpipe    59029 non-null int32\n",
      "waterpoint_type_hand_pump             59029 non-null int32\n",
      "payment_never_pay                     59029 non-null int32\n",
      "funder_Government_Of_Tanzania         59029 non-null int32\n",
      "installer_DWE                         59029 non-null int32\n",
      "dtypes: float64(3), int32(16), int64(9)\n",
      "memory usage: 9.0 MB\n"
     ]
    }
   ],
   "source": [
    "np.sum(dum_df.info()"
   ]
  },
  {
   "cell_type": "code",
   "execution_count": 125,
   "metadata": {},
   "outputs": [
    {
     "data": {
      "text/plain": [
       "0"
      ]
     },
     "execution_count": 125,
     "metadata": {},
     "output_type": "execute_result"
    }
   ],
   "source": [
    "np.sum(dum_df.dtypes == 'O')"
   ]
  },
  {
   "cell_type": "code",
   "execution_count": 126,
   "metadata": {},
   "outputs": [
    {
     "data": {
      "text/html": [
       "<div>\n",
       "<style scoped>\n",
       "    .dataframe tbody tr th:only-of-type {\n",
       "        vertical-align: middle;\n",
       "    }\n",
       "\n",
       "    .dataframe tbody tr th {\n",
       "        vertical-align: top;\n",
       "    }\n",
       "\n",
       "    .dataframe thead th {\n",
       "        text-align: right;\n",
       "    }\n",
       "</style>\n",
       "<table border=\"1\" class=\"dataframe\">\n",
       "  <thead>\n",
       "    <tr style=\"text-align: right;\">\n",
       "      <th></th>\n",
       "      <th>id</th>\n",
       "      <th>amount_tsh</th>\n",
       "      <th>gps_height</th>\n",
       "      <th>longitude</th>\n",
       "      <th>latitude</th>\n",
       "      <th>region_code</th>\n",
       "      <th>district_code</th>\n",
       "      <th>population</th>\n",
       "      <th>public_meeting</th>\n",
       "      <th>permit</th>\n",
       "      <th>construction_year</th>\n",
       "      <th>status_group</th>\n",
       "      <th>day_of_year</th>\n",
       "      <th>month</th>\n",
       "      <th>extraction_type_class_gravity</th>\n",
       "      <th>extraction_type_class_handpump</th>\n",
       "      <th>extraction_type_class_other</th>\n",
       "      <th>extraction_type_class_submersible</th>\n",
       "      <th>extraction_type_class_motorpump</th>\n",
       "      <th>management_vwc</th>\n",
       "      <th>management_wug</th>\n",
       "      <th>quality_group_good</th>\n",
       "      <th>quality_group_salty</th>\n",
       "      <th>waterpoint_type_communal_standpipe</th>\n",
       "      <th>waterpoint_type_hand_pump</th>\n",
       "      <th>payment_never_pay</th>\n",
       "      <th>funder_Government_Of_Tanzania</th>\n",
       "      <th>installer_DWE</th>\n",
       "    </tr>\n",
       "  </thead>\n",
       "  <tbody>\n",
       "    <tr>\n",
       "      <td>0</td>\n",
       "      <td>69572</td>\n",
       "      <td>6000.0</td>\n",
       "      <td>1390</td>\n",
       "      <td>34.938093</td>\n",
       "      <td>-9.856322</td>\n",
       "      <td>11</td>\n",
       "      <td>5</td>\n",
       "      <td>109</td>\n",
       "      <td>1</td>\n",
       "      <td>0</td>\n",
       "      <td>1999</td>\n",
       "      <td>0</td>\n",
       "      <td>73</td>\n",
       "      <td>3</td>\n",
       "      <td>1</td>\n",
       "      <td>0</td>\n",
       "      <td>0</td>\n",
       "      <td>0</td>\n",
       "      <td>0</td>\n",
       "      <td>1</td>\n",
       "      <td>0</td>\n",
       "      <td>1</td>\n",
       "      <td>0</td>\n",
       "      <td>1</td>\n",
       "      <td>0</td>\n",
       "      <td>0</td>\n",
       "      <td>0</td>\n",
       "      <td>0</td>\n",
       "    </tr>\n",
       "    <tr>\n",
       "      <td>1</td>\n",
       "      <td>8776</td>\n",
       "      <td>0.0</td>\n",
       "      <td>1399</td>\n",
       "      <td>34.698766</td>\n",
       "      <td>-2.147466</td>\n",
       "      <td>20</td>\n",
       "      <td>2</td>\n",
       "      <td>280</td>\n",
       "      <td>1</td>\n",
       "      <td>1</td>\n",
       "      <td>2010</td>\n",
       "      <td>0</td>\n",
       "      <td>65</td>\n",
       "      <td>3</td>\n",
       "      <td>1</td>\n",
       "      <td>0</td>\n",
       "      <td>0</td>\n",
       "      <td>0</td>\n",
       "      <td>0</td>\n",
       "      <td>0</td>\n",
       "      <td>1</td>\n",
       "      <td>1</td>\n",
       "      <td>0</td>\n",
       "      <td>1</td>\n",
       "      <td>0</td>\n",
       "      <td>1</td>\n",
       "      <td>0</td>\n",
       "      <td>0</td>\n",
       "    </tr>\n",
       "    <tr>\n",
       "      <td>2</td>\n",
       "      <td>34310</td>\n",
       "      <td>25.0</td>\n",
       "      <td>686</td>\n",
       "      <td>37.460664</td>\n",
       "      <td>-3.821329</td>\n",
       "      <td>21</td>\n",
       "      <td>4</td>\n",
       "      <td>250</td>\n",
       "      <td>1</td>\n",
       "      <td>1</td>\n",
       "      <td>2009</td>\n",
       "      <td>0</td>\n",
       "      <td>56</td>\n",
       "      <td>2</td>\n",
       "      <td>1</td>\n",
       "      <td>0</td>\n",
       "      <td>0</td>\n",
       "      <td>0</td>\n",
       "      <td>0</td>\n",
       "      <td>1</td>\n",
       "      <td>0</td>\n",
       "      <td>1</td>\n",
       "      <td>0</td>\n",
       "      <td>0</td>\n",
       "      <td>0</td>\n",
       "      <td>0</td>\n",
       "      <td>0</td>\n",
       "      <td>0</td>\n",
       "    </tr>\n",
       "    <tr>\n",
       "      <td>3</td>\n",
       "      <td>67743</td>\n",
       "      <td>0.0</td>\n",
       "      <td>263</td>\n",
       "      <td>38.486161</td>\n",
       "      <td>-11.155298</td>\n",
       "      <td>90</td>\n",
       "      <td>63</td>\n",
       "      <td>58</td>\n",
       "      <td>1</td>\n",
       "      <td>1</td>\n",
       "      <td>1986</td>\n",
       "      <td>2</td>\n",
       "      <td>28</td>\n",
       "      <td>1</td>\n",
       "      <td>0</td>\n",
       "      <td>0</td>\n",
       "      <td>0</td>\n",
       "      <td>1</td>\n",
       "      <td>0</td>\n",
       "      <td>1</td>\n",
       "      <td>0</td>\n",
       "      <td>1</td>\n",
       "      <td>0</td>\n",
       "      <td>0</td>\n",
       "      <td>0</td>\n",
       "      <td>1</td>\n",
       "      <td>0</td>\n",
       "      <td>0</td>\n",
       "    </tr>\n",
       "    <tr>\n",
       "      <td>4</td>\n",
       "      <td>19728</td>\n",
       "      <td>0.0</td>\n",
       "      <td>0</td>\n",
       "      <td>31.130847</td>\n",
       "      <td>-1.825359</td>\n",
       "      <td>18</td>\n",
       "      <td>1</td>\n",
       "      <td>0</td>\n",
       "      <td>1</td>\n",
       "      <td>1</td>\n",
       "      <td>0</td>\n",
       "      <td>0</td>\n",
       "      <td>194</td>\n",
       "      <td>7</td>\n",
       "      <td>1</td>\n",
       "      <td>0</td>\n",
       "      <td>0</td>\n",
       "      <td>0</td>\n",
       "      <td>0</td>\n",
       "      <td>0</td>\n",
       "      <td>0</td>\n",
       "      <td>1</td>\n",
       "      <td>0</td>\n",
       "      <td>1</td>\n",
       "      <td>0</td>\n",
       "      <td>1</td>\n",
       "      <td>0</td>\n",
       "      <td>0</td>\n",
       "    </tr>\n",
       "  </tbody>\n",
       "</table>\n",
       "</div>"
      ],
      "text/plain": [
       "      id  amount_tsh  gps_height  longitude   latitude  region_code  \\\n",
       "0  69572      6000.0        1390  34.938093  -9.856322           11   \n",
       "1   8776         0.0        1399  34.698766  -2.147466           20   \n",
       "2  34310        25.0         686  37.460664  -3.821329           21   \n",
       "3  67743         0.0         263  38.486161 -11.155298           90   \n",
       "4  19728         0.0           0  31.130847  -1.825359           18   \n",
       "\n",
       "   district_code  population  public_meeting  permit  construction_year  \\\n",
       "0              5         109               1       0               1999   \n",
       "1              2         280               1       1               2010   \n",
       "2              4         250               1       1               2009   \n",
       "3             63          58               1       1               1986   \n",
       "4              1           0               1       1                  0   \n",
       "\n",
       "   status_group  day_of_year  month  extraction_type_class_gravity  \\\n",
       "0             0           73      3                              1   \n",
       "1             0           65      3                              1   \n",
       "2             0           56      2                              1   \n",
       "3             2           28      1                              0   \n",
       "4             0          194      7                              1   \n",
       "\n",
       "   extraction_type_class_handpump  extraction_type_class_other  \\\n",
       "0                               0                            0   \n",
       "1                               0                            0   \n",
       "2                               0                            0   \n",
       "3                               0                            0   \n",
       "4                               0                            0   \n",
       "\n",
       "   extraction_type_class_submersible  extraction_type_class_motorpump  \\\n",
       "0                                  0                                0   \n",
       "1                                  0                                0   \n",
       "2                                  0                                0   \n",
       "3                                  1                                0   \n",
       "4                                  0                                0   \n",
       "\n",
       "   management_vwc  management_wug  quality_group_good  quality_group_salty  \\\n",
       "0               1               0                   1                    0   \n",
       "1               0               1                   1                    0   \n",
       "2               1               0                   1                    0   \n",
       "3               1               0                   1                    0   \n",
       "4               0               0                   1                    0   \n",
       "\n",
       "   waterpoint_type_communal_standpipe  waterpoint_type_hand_pump  \\\n",
       "0                                   1                          0   \n",
       "1                                   1                          0   \n",
       "2                                   0                          0   \n",
       "3                                   0                          0   \n",
       "4                                   1                          0   \n",
       "\n",
       "   payment_never_pay  funder_Government_Of_Tanzania  installer_DWE  \n",
       "0                  0                              0              0  \n",
       "1                  1                              0              0  \n",
       "2                  0                              0              0  \n",
       "3                  1                              0              0  \n",
       "4                  1                              0              0  "
      ]
     },
     "execution_count": 126,
     "metadata": {},
     "output_type": "execute_result"
    }
   ],
   "source": [
    "dum_df.head()"
   ]
  },
  {
   "cell_type": "markdown",
   "metadata": {},
   "source": [
    "Beautiful numbers only! Now we can pass these numerics to Sklearn and see how the baseline models perform."
   ]
  },
  {
   "cell_type": "markdown",
   "metadata": {},
   "source": [
    "# Test-Train Split"
   ]
  },
  {
   "cell_type": "code",
   "execution_count": 128,
   "metadata": {},
   "outputs": [],
   "source": [
    "X = dum_df.drop(\"status_group\", axis=1)\n",
    "y = dum_df['status_group']\n",
    "\n",
    "X_train, X_test, y_train, y_test = train_test_split(X, y, test_size=0.25, random_state=0)"
   ]
  },
  {
   "cell_type": "markdown",
   "metadata": {},
   "source": [
    "# Baseline Model"
   ]
  },
  {
   "cell_type": "markdown",
   "metadata": {},
   "source": [
    "I'm doing a KNN baseline model because this data has a fair amount of geographic data still in it, despite having dropped `region` and `ward` previously. We still have height, lat, long, and other geographic codes."
   ]
  },
  {
   "cell_type": "code",
   "execution_count": 129,
   "metadata": {},
   "outputs": [
    {
     "data": {
      "text/plain": [
       "KNeighborsClassifier(algorithm='auto', leaf_size=30, metric='minkowski',\n",
       "                     metric_params=None, n_jobs=None, n_neighbors=5, p=2,\n",
       "                     weights='uniform')"
      ]
     },
     "execution_count": 129,
     "metadata": {},
     "output_type": "execute_result"
    }
   ],
   "source": [
    "knn = KNeighborsClassifier()\n",
    "knn.fit(X_train, y_train)"
   ]
  },
  {
   "cell_type": "code",
   "execution_count": 131,
   "metadata": {},
   "outputs": [
    {
     "data": {
      "text/plain": [
       "0.1301733046468685"
      ]
     },
     "execution_count": 131,
     "metadata": {},
     "output_type": "execute_result"
    }
   ],
   "source": [
    "np.sum(knn.predict(X_test) == y_test) / len(df)"
   ]
  },
  {
   "cell_type": "markdown",
   "metadata": {},
   "source": [
    "This is ... shockingly bad. Almost five times worse than just guessing."
   ]
  },
  {
   "cell_type": "markdown",
   "metadata": {},
   "source": [
    "# KNN Training"
   ]
  },
  {
   "cell_type": "markdown",
   "metadata": {},
   "source": [
    "Let's see if building a standard-scaled model with grid-searching will improve this."
   ]
  },
  {
   "cell_type": "code",
   "execution_count": 136,
   "metadata": {},
   "outputs": [],
   "source": [
    "knn_pipe = Pipeline([('SS' , StandardScaler()),\n",
    "                     ('KN' , KNeighborsClassifier())])"
   ]
  },
  {
   "cell_type": "code",
   "execution_count": 144,
   "metadata": {},
   "outputs": [],
   "source": [
    "knn_grid = [{'KN__n_neighbors' : [3, 5, 7]}]"
   ]
  },
  {
   "cell_type": "code",
   "execution_count": 145,
   "metadata": {},
   "outputs": [],
   "source": [
    "knn_gridsearch = GridSearchCV(estimator=knn_pipe, param_grid=knn_grid, scoring='accuracy', cv=3)"
   ]
  },
  {
   "cell_type": "code",
   "execution_count": 146,
   "metadata": {},
   "outputs": [
    {
     "data": {
      "text/plain": [
       "GridSearchCV(cv=3, error_score='raise-deprecating',\n",
       "             estimator=Pipeline(memory=None,\n",
       "                                steps=[('SS',\n",
       "                                        StandardScaler(copy=True,\n",
       "                                                       with_mean=True,\n",
       "                                                       with_std=True)),\n",
       "                                       ('KN',\n",
       "                                        KNeighborsClassifier(algorithm='auto',\n",
       "                                                             leaf_size=30,\n",
       "                                                             metric='minkowski',\n",
       "                                                             metric_params=None,\n",
       "                                                             n_jobs=None,\n",
       "                                                             n_neighbors=5, p=2,\n",
       "                                                             weights='uniform'))],\n",
       "                                verbose=False),\n",
       "             iid='warn', n_jobs=None,\n",
       "             param_grid=[{'KN__n_neighbors': [3, 5, 7]}],\n",
       "             pre_dispatch='2*n_jobs', refit=True, return_train_score=False,\n",
       "             scoring='accuracy', verbose=0)"
      ]
     },
     "execution_count": 146,
     "metadata": {},
     "output_type": "execute_result"
    }
   ],
   "source": [
    "knn_gridsearch.fit(X_train, y_train)"
   ]
  },
  {
   "cell_type": "code",
   "execution_count": null,
   "metadata": {},
   "outputs": [],
   "source": [
    "np.sum()"
   ]
  }
 ],
 "metadata": {
  "kernelspec": {
   "display_name": "Python [conda env:learn-env] *",
   "language": "python",
   "name": "conda-env-learn-env-py"
  },
  "language_info": {
   "codemirror_mode": {
    "name": "ipython",
    "version": 3
   },
   "file_extension": ".py",
   "mimetype": "text/x-python",
   "name": "python",
   "nbconvert_exporter": "python",
   "pygments_lexer": "ipython3",
   "version": "3.6.9"
  },
  "toc": {
   "base_numbering": 1,
   "nav_menu": {},
   "number_sections": true,
   "sideBar": true,
   "skip_h1_title": false,
   "title_cell": "Table of Contents",
   "title_sidebar": "Contents",
   "toc_cell": false,
   "toc_position": {},
   "toc_section_display": true,
   "toc_window_display": false
  },
  "varInspector": {
   "cols": {
    "lenName": 16,
    "lenType": 16,
    "lenVar": 40
   },
   "kernels_config": {
    "python": {
     "delete_cmd_postfix": "",
     "delete_cmd_prefix": "del ",
     "library": "var_list.py",
     "varRefreshCmd": "print(var_dic_list())"
    },
    "r": {
     "delete_cmd_postfix": ") ",
     "delete_cmd_prefix": "rm(",
     "library": "var_list.r",
     "varRefreshCmd": "cat(var_dic_list()) "
    }
   },
   "types_to_exclude": [
    "module",
    "function",
    "builtin_function_or_method",
    "instance",
    "_Feature"
   ],
   "window_display": false
  }
 },
 "nbformat": 4,
 "nbformat_minor": 2
}
