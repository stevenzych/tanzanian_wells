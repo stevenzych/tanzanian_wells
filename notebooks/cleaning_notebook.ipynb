{
 "cells": [
  {
   "cell_type": "markdown",
   "metadata": {},
   "source": [
    "# Introduction\n",
    "\n",
    "Basic importing, cleaning, and exploration. Ends with a cleaned CSV file.\n",
    "\n",
    "The data comes from [here](https://www.drivendata.org/competitions/7/pump-it-up-data-mining-the-water-table/data/) and looks at water well conditions in Tanzania. It's a ternary classification problem."
   ]
  },
  {
   "cell_type": "code",
   "execution_count": 1,
   "metadata": {},
   "outputs": [],
   "source": [
    "import pandas as pd\n",
    "import numpy as np\n",
    "import matplotlib.pyplot as plt\n",
    "%matplotlib inline"
   ]
  },
  {
   "cell_type": "markdown",
   "metadata": {},
   "source": [
    "# Data Cleaning"
   ]
  },
  {
   "cell_type": "markdown",
   "metadata": {},
   "source": [
    "## Importing Data"
   ]
  },
  {
   "cell_type": "code",
   "execution_count": 22,
   "metadata": {},
   "outputs": [
    {
     "data": {
      "text/html": [
       "<div>\n",
       "<style scoped>\n",
       "    .dataframe tbody tr th:only-of-type {\n",
       "        vertical-align: middle;\n",
       "    }\n",
       "\n",
       "    .dataframe tbody tr th {\n",
       "        vertical-align: top;\n",
       "    }\n",
       "\n",
       "    .dataframe thead th {\n",
       "        text-align: right;\n",
       "    }\n",
       "</style>\n",
       "<table border=\"1\" class=\"dataframe\">\n",
       "  <thead>\n",
       "    <tr style=\"text-align: right;\">\n",
       "      <th></th>\n",
       "      <th>id</th>\n",
       "      <th>amount_tsh</th>\n",
       "      <th>date_recorded</th>\n",
       "      <th>funder</th>\n",
       "      <th>gps_height</th>\n",
       "      <th>installer</th>\n",
       "      <th>longitude</th>\n",
       "      <th>latitude</th>\n",
       "      <th>wpt_name</th>\n",
       "      <th>num_private</th>\n",
       "      <th>...</th>\n",
       "      <th>payment_type</th>\n",
       "      <th>water_quality</th>\n",
       "      <th>quality_group</th>\n",
       "      <th>quantity</th>\n",
       "      <th>quantity_group</th>\n",
       "      <th>source</th>\n",
       "      <th>source_type</th>\n",
       "      <th>source_class</th>\n",
       "      <th>waterpoint_type</th>\n",
       "      <th>waterpoint_type_group</th>\n",
       "    </tr>\n",
       "  </thead>\n",
       "  <tbody>\n",
       "    <tr>\n",
       "      <td>0</td>\n",
       "      <td>69572</td>\n",
       "      <td>6000.0</td>\n",
       "      <td>2011-03-14</td>\n",
       "      <td>Roman</td>\n",
       "      <td>1390</td>\n",
       "      <td>Roman</td>\n",
       "      <td>34.938093</td>\n",
       "      <td>-9.856322</td>\n",
       "      <td>none</td>\n",
       "      <td>0</td>\n",
       "      <td>...</td>\n",
       "      <td>annually</td>\n",
       "      <td>soft</td>\n",
       "      <td>good</td>\n",
       "      <td>enough</td>\n",
       "      <td>enough</td>\n",
       "      <td>spring</td>\n",
       "      <td>spring</td>\n",
       "      <td>groundwater</td>\n",
       "      <td>communal standpipe</td>\n",
       "      <td>communal standpipe</td>\n",
       "    </tr>\n",
       "    <tr>\n",
       "      <td>1</td>\n",
       "      <td>8776</td>\n",
       "      <td>0.0</td>\n",
       "      <td>2013-03-06</td>\n",
       "      <td>Grumeti</td>\n",
       "      <td>1399</td>\n",
       "      <td>GRUMETI</td>\n",
       "      <td>34.698766</td>\n",
       "      <td>-2.147466</td>\n",
       "      <td>Zahanati</td>\n",
       "      <td>0</td>\n",
       "      <td>...</td>\n",
       "      <td>never pay</td>\n",
       "      <td>soft</td>\n",
       "      <td>good</td>\n",
       "      <td>insufficient</td>\n",
       "      <td>insufficient</td>\n",
       "      <td>rainwater harvesting</td>\n",
       "      <td>rainwater harvesting</td>\n",
       "      <td>surface</td>\n",
       "      <td>communal standpipe</td>\n",
       "      <td>communal standpipe</td>\n",
       "    </tr>\n",
       "    <tr>\n",
       "      <td>2</td>\n",
       "      <td>34310</td>\n",
       "      <td>25.0</td>\n",
       "      <td>2013-02-25</td>\n",
       "      <td>Lottery Club</td>\n",
       "      <td>686</td>\n",
       "      <td>World vision</td>\n",
       "      <td>37.460664</td>\n",
       "      <td>-3.821329</td>\n",
       "      <td>Kwa Mahundi</td>\n",
       "      <td>0</td>\n",
       "      <td>...</td>\n",
       "      <td>per bucket</td>\n",
       "      <td>soft</td>\n",
       "      <td>good</td>\n",
       "      <td>enough</td>\n",
       "      <td>enough</td>\n",
       "      <td>dam</td>\n",
       "      <td>dam</td>\n",
       "      <td>surface</td>\n",
       "      <td>communal standpipe multiple</td>\n",
       "      <td>communal standpipe</td>\n",
       "    </tr>\n",
       "    <tr>\n",
       "      <td>3</td>\n",
       "      <td>67743</td>\n",
       "      <td>0.0</td>\n",
       "      <td>2013-01-28</td>\n",
       "      <td>Unicef</td>\n",
       "      <td>263</td>\n",
       "      <td>UNICEF</td>\n",
       "      <td>38.486161</td>\n",
       "      <td>-11.155298</td>\n",
       "      <td>Zahanati Ya Nanyumbu</td>\n",
       "      <td>0</td>\n",
       "      <td>...</td>\n",
       "      <td>never pay</td>\n",
       "      <td>soft</td>\n",
       "      <td>good</td>\n",
       "      <td>dry</td>\n",
       "      <td>dry</td>\n",
       "      <td>machine dbh</td>\n",
       "      <td>borehole</td>\n",
       "      <td>groundwater</td>\n",
       "      <td>communal standpipe multiple</td>\n",
       "      <td>communal standpipe</td>\n",
       "    </tr>\n",
       "    <tr>\n",
       "      <td>4</td>\n",
       "      <td>19728</td>\n",
       "      <td>0.0</td>\n",
       "      <td>2011-07-13</td>\n",
       "      <td>Action In A</td>\n",
       "      <td>0</td>\n",
       "      <td>Artisan</td>\n",
       "      <td>31.130847</td>\n",
       "      <td>-1.825359</td>\n",
       "      <td>Shuleni</td>\n",
       "      <td>0</td>\n",
       "      <td>...</td>\n",
       "      <td>never pay</td>\n",
       "      <td>soft</td>\n",
       "      <td>good</td>\n",
       "      <td>seasonal</td>\n",
       "      <td>seasonal</td>\n",
       "      <td>rainwater harvesting</td>\n",
       "      <td>rainwater harvesting</td>\n",
       "      <td>surface</td>\n",
       "      <td>communal standpipe</td>\n",
       "      <td>communal standpipe</td>\n",
       "    </tr>\n",
       "  </tbody>\n",
       "</table>\n",
       "<p>5 rows × 40 columns</p>\n",
       "</div>"
      ],
      "text/plain": [
       "      id  amount_tsh date_recorded        funder  gps_height     installer  \\\n",
       "0  69572      6000.0    2011-03-14         Roman        1390         Roman   \n",
       "1   8776         0.0    2013-03-06       Grumeti        1399       GRUMETI   \n",
       "2  34310        25.0    2013-02-25  Lottery Club         686  World vision   \n",
       "3  67743         0.0    2013-01-28        Unicef         263        UNICEF   \n",
       "4  19728         0.0    2011-07-13   Action In A           0       Artisan   \n",
       "\n",
       "   longitude   latitude              wpt_name  num_private  ... payment_type  \\\n",
       "0  34.938093  -9.856322                  none            0  ...     annually   \n",
       "1  34.698766  -2.147466              Zahanati            0  ...    never pay   \n",
       "2  37.460664  -3.821329           Kwa Mahundi            0  ...   per bucket   \n",
       "3  38.486161 -11.155298  Zahanati Ya Nanyumbu            0  ...    never pay   \n",
       "4  31.130847  -1.825359               Shuleni            0  ...    never pay   \n",
       "\n",
       "  water_quality quality_group      quantity  quantity_group  \\\n",
       "0          soft          good        enough          enough   \n",
       "1          soft          good  insufficient    insufficient   \n",
       "2          soft          good        enough          enough   \n",
       "3          soft          good           dry             dry   \n",
       "4          soft          good      seasonal        seasonal   \n",
       "\n",
       "                 source           source_type  source_class  \\\n",
       "0                spring                spring   groundwater   \n",
       "1  rainwater harvesting  rainwater harvesting       surface   \n",
       "2                   dam                   dam       surface   \n",
       "3           machine dbh              borehole   groundwater   \n",
       "4  rainwater harvesting  rainwater harvesting       surface   \n",
       "\n",
       "               waterpoint_type waterpoint_type_group  \n",
       "0           communal standpipe    communal standpipe  \n",
       "1           communal standpipe    communal standpipe  \n",
       "2  communal standpipe multiple    communal standpipe  \n",
       "3  communal standpipe multiple    communal standpipe  \n",
       "4           communal standpipe    communal standpipe  \n",
       "\n",
       "[5 rows x 40 columns]"
      ]
     },
     "execution_count": 22,
     "metadata": {},
     "output_type": "execute_result"
    }
   ],
   "source": [
    "df_vals = pd.read_csv(\"../data/train_vals.csv\")\n",
    "df_vals.head()"
   ]
  },
  {
   "cell_type": "code",
   "execution_count": 23,
   "metadata": {},
   "outputs": [
    {
     "data": {
      "text/html": [
       "<div>\n",
       "<style scoped>\n",
       "    .dataframe tbody tr th:only-of-type {\n",
       "        vertical-align: middle;\n",
       "    }\n",
       "\n",
       "    .dataframe tbody tr th {\n",
       "        vertical-align: top;\n",
       "    }\n",
       "\n",
       "    .dataframe thead th {\n",
       "        text-align: right;\n",
       "    }\n",
       "</style>\n",
       "<table border=\"1\" class=\"dataframe\">\n",
       "  <thead>\n",
       "    <tr style=\"text-align: right;\">\n",
       "      <th></th>\n",
       "      <th>id</th>\n",
       "      <th>status_group</th>\n",
       "    </tr>\n",
       "  </thead>\n",
       "  <tbody>\n",
       "    <tr>\n",
       "      <td>0</td>\n",
       "      <td>69572</td>\n",
       "      <td>functional</td>\n",
       "    </tr>\n",
       "    <tr>\n",
       "      <td>1</td>\n",
       "      <td>8776</td>\n",
       "      <td>functional</td>\n",
       "    </tr>\n",
       "    <tr>\n",
       "      <td>2</td>\n",
       "      <td>34310</td>\n",
       "      <td>functional</td>\n",
       "    </tr>\n",
       "    <tr>\n",
       "      <td>3</td>\n",
       "      <td>67743</td>\n",
       "      <td>non functional</td>\n",
       "    </tr>\n",
       "    <tr>\n",
       "      <td>4</td>\n",
       "      <td>19728</td>\n",
       "      <td>functional</td>\n",
       "    </tr>\n",
       "  </tbody>\n",
       "</table>\n",
       "</div>"
      ],
      "text/plain": [
       "      id    status_group\n",
       "0  69572      functional\n",
       "1   8776      functional\n",
       "2  34310      functional\n",
       "3  67743  non functional\n",
       "4  19728      functional"
      ]
     },
     "execution_count": 23,
     "metadata": {},
     "output_type": "execute_result"
    }
   ],
   "source": [
    "df_labels = pd.read_csv(\"../data/train_labels.csv\")\n",
    "df_labels.head()"
   ]
  },
  {
   "cell_type": "code",
   "execution_count": 30,
   "metadata": {},
   "outputs": [
    {
     "data": {
      "text/plain": [
       "True"
      ]
     },
     "execution_count": 30,
     "metadata": {},
     "output_type": "execute_result"
    }
   ],
   "source": [
    "len(df_labels) == len(df_vals)"
   ]
  },
  {
   "cell_type": "markdown",
   "metadata": {},
   "source": [
    "## Column Names"
   ]
  },
  {
   "cell_type": "code",
   "execution_count": 24,
   "metadata": {},
   "outputs": [
    {
     "data": {
      "text/plain": [
       "Index(['id', 'amount_tsh', 'date_recorded', 'funder', 'gps_height',\n",
       "       'installer', 'longitude', 'latitude', 'wpt_name', 'num_private',\n",
       "       'basin', 'subvillage', 'region', 'region_code', 'district_code', 'lga',\n",
       "       'ward', 'population', 'public_meeting', 'recorded_by',\n",
       "       'scheme_management', 'scheme_name', 'permit', 'construction_year',\n",
       "       'extraction_type', 'extraction_type_group', 'extraction_type_class',\n",
       "       'management', 'management_group', 'payment', 'payment_type',\n",
       "       'water_quality', 'quality_group', 'quantity', 'quantity_group',\n",
       "       'source', 'source_type', 'source_class', 'waterpoint_type',\n",
       "       'waterpoint_type_group'],\n",
       "      dtype='object')"
      ]
     },
     "execution_count": 24,
     "metadata": {},
     "output_type": "execute_result"
    }
   ],
   "source": [
    "df_vals.columns"
   ]
  },
  {
   "cell_type": "code",
   "execution_count": 25,
   "metadata": {},
   "outputs": [
    {
     "data": {
      "text/plain": [
       "Index(['id', 'status_group'], dtype='object')"
      ]
     },
     "execution_count": 25,
     "metadata": {},
     "output_type": "execute_result"
    }
   ],
   "source": [
    "df_labels.columns"
   ]
  },
  {
   "cell_type": "markdown",
   "metadata": {},
   "source": [
    "All column names are described [here](https://www.drivendata.org/competitions/7/pump-it-up-data-mining-the-water-table/page/25/), and they mostly make sense. Those with `_group` and `_class` have redundant descriptions but I'm assuming hierarchical descriptions here. `num_private` has no description."
   ]
  },
  {
   "cell_type": "code",
   "execution_count": 38,
   "metadata": {},
   "outputs": [
    {
     "data": {
      "text/plain": [
       "array([   0,   39,    5,   45,    6,    3,  698,   32,   15,    7,   25,\n",
       "        102,    1,   93,   14,   34,  120,   17,  213,   47,    8,   41,\n",
       "         80,  141,   20,   35,  131,    4,   22,   11,   87,   61,   65,\n",
       "        136,    2,  180,   38,   62,    9,   16,   23,   42,   24,   12,\n",
       "        668,  672,   58,  150,  280,  160,   50, 1776,   30,   27,   10,\n",
       "         94,   26,  450,  240,  755,   60,  111,  300,   55, 1402],\n",
       "      dtype=int64)"
      ]
     },
     "execution_count": 38,
     "metadata": {},
     "output_type": "execute_result"
    }
   ],
   "source": [
    "df_vals['num_private'].unique()"
   ]
  },
  {
   "cell_type": "markdown",
   "metadata": {},
   "source": [
    "This doesn't clear things up, but it doesn't seem to be problematic to use."
   ]
  },
  {
   "cell_type": "markdown",
   "metadata": {},
   "source": [
    "## Column Types"
   ]
  },
  {
   "cell_type": "code",
   "execution_count": 26,
   "metadata": {
    "scrolled": true
   },
   "outputs": [
    {
     "name": "stdout",
     "output_type": "stream",
     "text": [
      "<class 'pandas.core.frame.DataFrame'>\n",
      "RangeIndex: 59400 entries, 0 to 59399\n",
      "Data columns (total 40 columns):\n",
      "id                       59400 non-null int64\n",
      "amount_tsh               59400 non-null float64\n",
      "date_recorded            59400 non-null object\n",
      "funder                   55765 non-null object\n",
      "gps_height               59400 non-null int64\n",
      "installer                55745 non-null object\n",
      "longitude                59400 non-null float64\n",
      "latitude                 59400 non-null float64\n",
      "wpt_name                 59400 non-null object\n",
      "num_private              59400 non-null int64\n",
      "basin                    59400 non-null object\n",
      "subvillage               59029 non-null object\n",
      "region                   59400 non-null object\n",
      "region_code              59400 non-null int64\n",
      "district_code            59400 non-null int64\n",
      "lga                      59400 non-null object\n",
      "ward                     59400 non-null object\n",
      "population               59400 non-null int64\n",
      "public_meeting           56066 non-null object\n",
      "recorded_by              59400 non-null object\n",
      "scheme_management        55523 non-null object\n",
      "scheme_name              31234 non-null object\n",
      "permit                   56344 non-null object\n",
      "construction_year        59400 non-null int64\n",
      "extraction_type          59400 non-null object\n",
      "extraction_type_group    59400 non-null object\n",
      "extraction_type_class    59400 non-null object\n",
      "management               59400 non-null object\n",
      "management_group         59400 non-null object\n",
      "payment                  59400 non-null object\n",
      "payment_type             59400 non-null object\n",
      "water_quality            59400 non-null object\n",
      "quality_group            59400 non-null object\n",
      "quantity                 59400 non-null object\n",
      "quantity_group           59400 non-null object\n",
      "source                   59400 non-null object\n",
      "source_type              59400 non-null object\n",
      "source_class             59400 non-null object\n",
      "waterpoint_type          59400 non-null object\n",
      "waterpoint_type_group    59400 non-null object\n",
      "dtypes: float64(3), int64(7), object(30)\n",
      "memory usage: 18.1+ MB\n"
     ]
    }
   ],
   "source": [
    "df_vals.info()"
   ]
  },
  {
   "cell_type": "markdown",
   "metadata": {},
   "source": [
    "Most of these make sense type-wise off the bat. `payment` seems odd to not be `int64` so let's look at that. Same with `quantity`."
   ]
  },
  {
   "cell_type": "code",
   "execution_count": 35,
   "metadata": {},
   "outputs": [
    {
     "data": {
      "text/plain": [
       "array(['pay annually', 'never pay', 'pay per bucket', 'unknown',\n",
       "       'pay when scheme fails', 'other', 'pay monthly'], dtype=object)"
      ]
     },
     "execution_count": 35,
     "metadata": {},
     "output_type": "execute_result"
    }
   ],
   "source": [
    "df['payment'].unique()"
   ]
  },
  {
   "cell_type": "code",
   "execution_count": 37,
   "metadata": {},
   "outputs": [
    {
     "data": {
      "text/plain": [
       "array(['enough', 'insufficient', 'dry', 'seasonal', 'unknown'],\n",
       "      dtype=object)"
      ]
     },
     "execution_count": 37,
     "metadata": {},
     "output_type": "execute_result"
    }
   ],
   "source": [
    "df['quantity'].unique()"
   ]
  },
  {
   "cell_type": "markdown",
   "metadata": {},
   "source": [
    "Okay cool this clears things up. I was expecting numbers but they've been glossed categorically."
   ]
  },
  {
   "cell_type": "markdown",
   "metadata": {},
   "source": [
    "## Unique Values"
   ]
  },
  {
   "cell_type": "code",
   "execution_count": 14,
   "metadata": {
    "scrolled": true
   },
   "outputs": [
    {
     "data": {
      "text/plain": [
       "id                       59400\n",
       "amount_tsh                  98\n",
       "date_recorded              356\n",
       "funder                    1897\n",
       "gps_height                2428\n",
       "installer                 2145\n",
       "longitude                57516\n",
       "latitude                 57517\n",
       "wpt_name                 37400\n",
       "num_private                 65\n",
       "basin                        9\n",
       "subvillage               19287\n",
       "region                      21\n",
       "region_code                 27\n",
       "district_code               20\n",
       "lga                        125\n",
       "ward                      2092\n",
       "population                1049\n",
       "public_meeting               2\n",
       "recorded_by                  1\n",
       "scheme_management           12\n",
       "scheme_name               2696\n",
       "permit                       2\n",
       "construction_year           55\n",
       "extraction_type             18\n",
       "extraction_type_group       13\n",
       "extraction_type_class        7\n",
       "management                  12\n",
       "management_group             5\n",
       "payment                      7\n",
       "payment_type                 7\n",
       "water_quality                8\n",
       "quality_group                6\n",
       "quantity                     5\n",
       "quantity_group               5\n",
       "source                      10\n",
       "source_type                  7\n",
       "source_class                 3\n",
       "waterpoint_type              7\n",
       "waterpoint_type_group        6\n",
       "dtype: int64"
      ]
     },
     "execution_count": 14,
     "metadata": {},
     "output_type": "execute_result"
    }
   ],
   "source": [
    "df_vals.nunique()"
   ]
  },
  {
   "cell_type": "code",
   "execution_count": 19,
   "metadata": {},
   "outputs": [
    {
     "name": "stdout",
     "output_type": "stream",
     "text": [
      "id 59400 \n",
      " [69572  8776 34310 ... 37057 31282 26348] \n",
      "\n",
      "\n",
      "amount_tsh 98 \n",
      " [6.00e+03 0.00e+00 2.50e+01 2.00e+01 2.00e+02 5.00e+02 5.00e+01 4.00e+03\n",
      " 1.50e+03 6.00e+00 2.50e+02 1.00e+01 1.00e+03 1.00e+02 3.00e+01 2.00e+03\n",
      " 4.00e+02 1.20e+03 4.00e+01 3.00e+02 2.50e+04 7.50e+02 5.00e+03 6.00e+02\n",
      " 7.20e+03 2.40e+03 5.00e+00 3.60e+03 4.50e+02 4.00e+04 1.20e+04 3.00e+03\n",
      " 7.00e+00 2.00e+04 2.80e+03 2.20e+03 7.00e+01 5.50e+03 1.00e+04 2.50e+03\n",
      " 6.50e+03 5.50e+02 3.30e+01 8.00e+03 4.70e+03 7.00e+03 1.40e+04 1.30e+03\n",
      " 1.00e+05 7.00e+02 1.00e+00 6.00e+01 3.50e+02 2.00e-01 3.50e+01 3.06e+02\n",
      " 8.50e+03 1.17e+05 3.50e+03 5.20e+02 1.50e+01 6.30e+03 9.00e+03 1.50e+02\n",
      " 1.20e+05 1.38e+05 3.50e+05 4.50e+03 1.30e+04 4.50e+04 2.00e+00 1.50e+04\n",
      " 1.10e+04 5.00e+04 7.50e+03 1.63e+04 8.00e+02 1.60e+04 3.00e+04 5.30e+01\n",
      " 5.40e+03 7.00e+04 2.50e+05 2.00e+05 2.60e+04 1.80e+04 2.60e+01 5.90e+02\n",
      " 9.00e+02 9.00e+00 1.40e+03 1.70e+05 2.20e+02 3.80e+04 2.50e-01 1.20e+01\n",
      " 6.00e+04 5.90e+01] \n",
      "\n",
      "\n",
      "date_recorded 356 \n",
      " ['2011-03-14' '2013-03-06' '2013-02-25' '2013-01-28' '2011-07-13'\n",
      " '2011-03-13' '2012-10-01' '2012-10-09' '2012-11-03' '2011-08-03'\n",
      " '2011-02-20' '2013-02-18' '2012-10-14' '2013-03-15' '2012-10-20'\n",
      " '2011-08-04' '2011-07-04' '2011-09-04' '2011-07-22' '2011-02-22'\n",
      " '2011-02-27' '2013-02-10' '2011-10-04' '2013-11-03' '2013-01-21'\n",
      " '2013-01-16' '2011-07-11' '2013-03-05' '2013-03-16' '2011-03-23'\n",
      " '2011-03-16' '2013-03-19' '2011-03-11' '2011-02-23' '2013-03-28'\n",
      " '2011-07-16' '2011-03-27' '2013-02-11' '2013-10-03' '2011-03-12'\n",
      " '2011-07-07' '2013-01-15' '2013-03-18' '2012-10-22' '2013-02-05'\n",
      " '2011-07-27' '2011-04-04' '2013-02-21' '2011-08-18' '2011-07-31'\n",
      " '2011-08-01' '2011-07-14' '2013-02-22' '2013-07-03' '2013-08-03'\n",
      " '2013-01-22' '2011-03-22' '2013-05-03' '2013-01-19' '2013-02-09'\n",
      " '2011-01-04' '2013-02-04' '2011-03-05' '2011-03-31' '2013-02-27'\n",
      " '2011-08-07' '2011-03-30' '2012-10-23' '2011-03-02' '2011-03-04'\n",
      " '2013-03-14' '2012-10-18' '2011-08-08' '2011-09-05' '2011-04-11'\n",
      " '2013-01-17' '2013-01-20' '2013-01-27' '2013-02-19' '2012-10-06'\n",
      " '2013-02-13' '2013-02-26' '2013-02-16' '2013-02-17' '2011-07-21'\n",
      " '2011-03-07' '2011-07-12' '2011-07-17' '2011-04-07' '2011-04-10'\n",
      " '2012-10-29' '2011-02-25' '2012-10-11' '2013-02-14' '2012-10-05'\n",
      " '2011-07-19' '2011-04-15' '2011-03-17' '2013-01-25' '2011-10-07'\n",
      " '2011-02-24' '2013-03-21' '2011-08-02' '2011-02-03' '2013-01-24'\n",
      " '2012-10-21' '2011-04-16' '2013-02-03' '2013-02-24' '2011-04-02'\n",
      " '2012-10-19' '2013-01-30' '2011-03-03' '2011-08-17' '2011-03-28'\n",
      " '2011-07-23' '2013-02-06' '2011-08-11' '2011-03-09' '2011-03-18'\n",
      " '2013-03-07' '2011-08-14' '2013-09-03' '2011-02-16' '2011-04-03'\n",
      " '2011-07-09' '2011-04-12' '2011-04-14' '2011-03-10' '2013-03-25'\n",
      " '2013-02-28' '2013-01-18' '2012-10-10' '2011-07-03' '2011-08-05'\n",
      " '2011-07-20' '2013-03-13' '2011-03-15' '2011-07-18' '2013-03-03'\n",
      " '2011-11-07' '2013-04-04' '2012-10-16' '2013-03-23' '2013-04-03'\n",
      " '2013-02-08' '2011-03-21' '2011-04-05' '2012-10-15' '2011-03-19'\n",
      " '2013-06-03' '2013-03-29' '2012-10-28' '2011-07-15' '2012-10-12'\n",
      " '2011-07-29' '2011-08-06' '2012-10-13' '2013-03-02' '2013-02-12'\n",
      " '2013-01-29' '2013-01-04' '2012-10-25' '2012-11-13' '2013-02-01'\n",
      " '2011-08-10' '2013-03-17' '2011-07-30' '2011-02-21' '2011-02-17'\n",
      " '2011-08-19' '2013-02-15' '2013-02-02' '2013-01-26' '2011-04-06'\n",
      " '2011-08-21' '2013-03-24' '2013-10-02' '2011-04-01' '2013-02-23'\n",
      " '2013-02-20' '2011-04-08' '2011-03-29' '2011-03-25' '2013-03-01'\n",
      " '2013-05-04' '2012-11-05' '2011-03-24' '2011-03-20' '2013-03-04'\n",
      " '2012-10-26' '2013-06-04' '2011-08-20' '2013-02-07' '2011-07-24'\n",
      " '2011-07-25' '2013-03-22' '2013-08-02' '2011-07-28' '2013-03-12'\n",
      " '2013-03-30' '2013-12-03' '2011-03-26' '2011-03-08' '2013-01-23'\n",
      " '2012-11-04' '2012-10-02' '2012-10-07' '2011-04-18' '2012-11-15'\n",
      " '2011-08-12' '2011-08-23' '2012-10-08' '2011-02-26' '2013-03-26'\n",
      " '2011-03-01' '2012-12-14' '2011-02-14' '2013-01-14' '2012-10-04'\n",
      " '2011-07-26' '2012-10-27' '2012-10-17' '2013-09-02' '2012-10-03'\n",
      " '2013-03-20' '2012-11-08' '2011-02-15' '2012-10-24' '2013-03-10'\n",
      " '2011-07-06' '2011-07-08' '2012-12-13' '2011-08-25' '2004-08-01'\n",
      " '2011-04-09' '2012-10-31' '2011-03-06' '2013-07-02' '2012-11-12'\n",
      " '2011-02-28' '2011-02-02' '2013-01-31' '2011-07-10' '2011-04-17'\n",
      " '2011-07-05' '2011-06-04' '2011-08-22' '2011-01-03' '2013-01-13'\n",
      " '2012-11-09' '2013-01-11' '2011-01-08' '2013-07-04' '2011-02-18'\n",
      " '2011-08-13' '2012-11-06' '2011-06-03' '2013-01-12' '2013-03-08'\n",
      " '2004-12-01' '2012-12-16' '2011-04-13' '2012-11-01' '2013-03-27'\n",
      " '2011-12-03' '2013-01-08' '2011-04-19' '2012-12-15' '2012-10-30'\n",
      " '2011-08-16' '2013-01-07' '2013-01-03' '2013-05-02' '2011-08-15'\n",
      " '2011-02-19' '2011-11-03' '2011-04-21' '2013-01-10' '2012-11-10'\n",
      " '2011-12-07' '2012-11-11' '2011-10-03' '2011-08-26' '2011-04-22'\n",
      " '2011-08-09' '2011-06-07' '2002-10-14' '2013-03-09' '2011-02-04'\n",
      " '2013-01-09' '2012-12-12' '2012-11-14' '2012-12-11' '2011-04-20'\n",
      " '2012-12-18' '2011-08-27' '2013-12-02' '2013-11-02' '2011-09-27'\n",
      " '2011-08-24' '2011-09-03' '2012-11-29' '2011-09-19' '2012-12-21'\n",
      " '2012-11-02' '2013-03-11' '2012-11-19' '2011-05-03' '2012-12-10'\n",
      " '2011-11-04' '2004-05-01' '2004-04-05' '2012-12-17' '2012-11-07'\n",
      " '2012-11-30' '2004-06-01' '2011-05-07' '2012-12-23' '2011-09-09'\n",
      " '2012-12-24' '2011-05-04' '2011-04-23' '2013-04-02' '2011-02-01'\n",
      " '2011-09-18' '2011-09-06' '2011-09-20' '2004-03-01' '2011-09-17'\n",
      " '2013-01-01' '2004-01-07' '2004-07-01' '2011-09-11' '2011-08-31'\n",
      " '2011-09-21' '2011-08-30' '2011-08-28' '2011-09-01' '2011-09-28'\n",
      " '2011-09-16' '2011-09-13' '2011-09-08' '2011-09-23' '2013-01-06'\n",
      " '2011-09-14' '2004-03-06' '2012-01-21' '2012-01-25' '2011-09-15'\n",
      " '2011-09-25' '2004-09-01' '2004-04-01' '2011-09-26' '2011-09-12'\n",
      " '2013-12-01'] \n",
      "\n",
      "\n",
      "funder 1897 \n",
      " ['Roman' 'Grumeti' 'Lottery Club' ... 'Dina' 'Brown' 'Samlo'] \n",
      "\n",
      "\n",
      "gps_height 2428 \n",
      " [1390 1399  686 ...  -90 2091 2366] \n",
      "\n",
      "\n",
      "installer 2145 \n",
      " ['Roman' 'GRUMETI' 'World vision' ... 'Dina' 'brown' 'SELEPTA'] \n",
      "\n",
      "\n",
      "longitude 57516 \n",
      " [34.93809275 34.6987661  37.46066446 ... 34.01708706 35.86131531\n",
      " 38.10404822] \n",
      "\n",
      "\n",
      "latitude 57517 \n",
      " [-9.85632177 -2.14746569 -3.82132853 ... -8.75043433 -6.37857327\n",
      " -6.74746425] \n",
      "\n",
      "\n",
      "wpt_name 37400 \n",
      " ['none' 'Zahanati' 'Kwa Mahundi' ... 'Kwa Yahona Kuvala' 'Mshoro'\n",
      " 'Kwa Mzee Lugawa'] \n",
      "\n",
      "\n",
      "num_private 65 \n",
      " [   0   39    5   45    6    3  698   32   15    7   25  102    1   93\n",
      "   14   34  120   17  213   47    8   41   80  141   20   35  131    4\n",
      "   22   11   87   61   65  136    2  180   38   62    9   16   23   42\n",
      "   24   12  668  672   58  150  280  160   50 1776   30   27   10   94\n",
      "   26  450  240  755   60  111  300   55 1402] \n",
      "\n",
      "\n",
      "basin 9 \n",
      " ['Lake Nyasa' 'Lake Victoria' 'Pangani' 'Ruvuma / Southern Coast'\n",
      " 'Internal' 'Lake Tanganyika' 'Wami / Ruvu' 'Rufiji' 'Lake Rukwa'] \n",
      "\n",
      "\n",
      "subvillage 19287 \n",
      " ['Mnyusi B' 'Nyamara' 'Majengo' ... 'Itete B' 'Maore Kati' 'Kikatanyemba'] \n",
      "\n",
      "\n",
      "region 21 \n",
      " ['Iringa' 'Mara' 'Manyara' 'Mtwara' 'Kagera' 'Tanga' 'Shinyanga' 'Tabora'\n",
      " 'Pwani' 'Ruvuma' 'Kilimanjaro' 'Rukwa' 'Mwanza' 'Kigoma' 'Lindi' 'Dodoma'\n",
      " 'Arusha' 'Mbeya' 'Singida' 'Morogoro' 'Dar es Salaam'] \n",
      "\n",
      "\n",
      "region_code 27 \n",
      " [11 20 21 90 18  4 17 14 60 10  3 15 19 16 80  1  6  2 12 13  5  7 99 24\n",
      "  9  8 40] \n",
      "\n",
      "\n",
      "district_code 20 \n",
      " [ 5  2  4 63  1  8  3  6 43  7 23 33 53 62 60 30 13  0 80 67] \n",
      "\n",
      "\n",
      "lga 125 \n",
      " ['Ludewa' 'Serengeti' 'Simanjiro' 'Nanyumbu' 'Karagwe' 'Mkinga'\n",
      " 'Shinyanga Rural' 'Kahama' 'Tabora Urban' 'Mkuranga' 'Namtumbo' 'Maswa'\n",
      " 'Siha' 'Meatu' 'Sumbawanga Rural' 'Njombe' 'Ukerewe' 'Bariadi' 'Same'\n",
      " 'Kigoma Rural' 'Moshi Rural' 'Lindi Rural' 'Rombo' 'Chamwino' 'Bagamoyo'\n",
      " 'Mafia' 'Arusha Rural' 'Kyela' 'Kondoa' 'Kilolo' 'Kibondo' 'Makete'\n",
      " 'Singida Rural' 'Masasi' 'Rungwe' 'Moshi Urban' 'Geita' 'Mbulu'\n",
      " 'Bukoba Rural' 'Muheza' 'Lushoto' 'Meru' 'Iramba' 'Kilombero' 'Mbarali'\n",
      " 'Kasulu' 'Bukoba Urban' 'Korogwe' 'Bukombe' 'Morogoro Rural' 'Kishapu'\n",
      " 'Musoma Rural' 'Sengerema' 'Iringa Rural' 'Muleba' 'Dodoma Urban'\n",
      " 'Ruangwa' 'Hanang' 'Misenyi' 'Missungwi' 'Songea Rural' 'Tanga' 'Tunduru'\n",
      " 'Hai' 'Mwanga' 'Chato' 'Biharamulo' 'Ileje' 'Mpwapwa' 'Mvomero' 'Bunda'\n",
      " 'Kiteto' 'Longido' 'Urambo' 'Mbozi' 'Sikonge' 'Ilala' 'Tarime' 'Temeke'\n",
      " 'Mbeya Rural' 'Magu' 'Manyoni' 'Igunga' 'Kilosa' 'Babati' 'Chunya'\n",
      " 'Mufindi' 'Mtwara Rural' 'Ngara' 'Karatu' 'Mpanda' 'Kibaha'\n",
      " 'Singida Urban' 'Newala' 'Nzega' 'Nkasi' 'Bahi' 'Mbinga' 'Ulanga'\n",
      " 'Sumbawanga Urban' 'Morogoro Urban' 'Tandahimba' 'Kisarawe'\n",
      " 'Mtwara Urban' 'Kilwa' 'Liwale' 'Kongwa' 'Uyui' 'Rufiji' 'Kwimba'\n",
      " 'Monduli' 'Shinyanga Urban' 'Ngorongoro' 'Handeni' 'Rorya' 'Pangani'\n",
      " 'Lindi Urban' 'Nachingwea' 'Kinondoni' 'Kigoma Urban' 'Ilemela' 'Kilindi'\n",
      " 'Arusha Urban' 'Songea Urban' 'Nyamagana'] \n",
      "\n",
      "\n",
      "ward 2092 \n",
      " ['Mundindi' 'Natta' 'Ngorika' ... 'Chinugulu' 'Nyamtinga' 'Kinungu'] \n",
      "\n",
      "\n",
      "population 1049 \n",
      " [109 280 250 ... 845 976 788] \n",
      "\n",
      "\n",
      "public_meeting 2 \n",
      " [True nan False] \n",
      "\n",
      "\n",
      "recorded_by 1 \n",
      " ['GeoData Consultants Ltd'] \n",
      "\n",
      "\n",
      "scheme_management 12 \n",
      " ['VWC' 'Other' nan 'Private operator' 'WUG' 'Water Board' 'WUA'\n",
      " 'Water authority' 'Company' 'Parastatal' 'Trust' 'SWC' 'None'] \n",
      "\n",
      "\n",
      "scheme_name 2696 \n",
      " ['Roman' nan 'Nyumba ya mungu pipe scheme' ... 'BL Nsherehehe'\n",
      " 'Magati  gravity spri' 'Mtawanya'] \n",
      "\n",
      "\n",
      "permit 2 \n",
      " [False True nan] \n",
      "\n",
      "\n",
      "construction_year 55 \n",
      " [1999 2010 2009 1986    0 2011 1987 1991 1978 1992 2008 1974 2000 2002\n",
      " 2004 1972 2003 1980 2007 1973 1985 1970 1995 2006 1962 2005 1997 2012\n",
      " 1996 1977 1983 1984 1990 1982 1976 1988 1989 1975 1960 1961 1998 1963\n",
      " 1971 1994 1968 1993 2001 1979 1967 2013 1969 1981 1964 1966 1965] \n",
      "\n",
      "\n",
      "extraction_type 18 \n",
      " ['gravity' 'submersible' 'swn 80' 'nira/tanira' 'india mark ii' 'other'\n",
      " 'ksb' 'mono' 'windmill' 'afridev' 'other - rope pump' 'india mark iii'\n",
      " 'other - swn 81' 'other - play pump' 'cemo' 'climax' 'walimi'\n",
      " 'other - mkulima/shinyanga'] \n",
      "\n",
      "\n",
      "extraction_type_group 13 \n",
      " ['gravity' 'submersible' 'swn 80' 'nira/tanira' 'india mark ii' 'other'\n",
      " 'mono' 'wind-powered' 'afridev' 'rope pump' 'india mark iii'\n",
      " 'other handpump' 'other motorpump'] \n",
      "\n",
      "\n",
      "extraction_type_class 7 \n",
      " ['gravity' 'submersible' 'handpump' 'other' 'motorpump' 'wind-powered'\n",
      " 'rope pump'] \n",
      "\n",
      "\n",
      "management 12 \n",
      " ['vwc' 'wug' 'other' 'private operator' 'water board' 'wua' 'company'\n",
      " 'water authority' 'parastatal' 'unknown' 'other - school' 'trust'] \n",
      "\n",
      "\n",
      "management_group 5 \n",
      " ['user-group' 'other' 'commercial' 'parastatal' 'unknown'] \n",
      "\n",
      "\n",
      "payment 7 \n"
     ]
    },
    {
     "name": "stdout",
     "output_type": "stream",
     "text": [
      " ['pay annually' 'never pay' 'pay per bucket' 'unknown'\n",
      " 'pay when scheme fails' 'other' 'pay monthly'] \n",
      "\n",
      "\n",
      "payment_type 7 \n",
      " ['annually' 'never pay' 'per bucket' 'unknown' 'on failure' 'other'\n",
      " 'monthly'] \n",
      "\n",
      "\n",
      "water_quality 8 \n",
      " ['soft' 'salty' 'milky' 'unknown' 'fluoride' 'coloured' 'salty abandoned'\n",
      " 'fluoride abandoned'] \n",
      "\n",
      "\n",
      "quality_group 6 \n",
      " ['good' 'salty' 'milky' 'unknown' 'fluoride' 'colored'] \n",
      "\n",
      "\n",
      "quantity 5 \n",
      " ['enough' 'insufficient' 'dry' 'seasonal' 'unknown'] \n",
      "\n",
      "\n",
      "quantity_group 5 \n",
      " ['enough' 'insufficient' 'dry' 'seasonal' 'unknown'] \n",
      "\n",
      "\n",
      "source 10 \n",
      " ['spring' 'rainwater harvesting' 'dam' 'machine dbh' 'other'\n",
      " 'shallow well' 'river' 'hand dtw' 'lake' 'unknown'] \n",
      "\n",
      "\n",
      "source_type 7 \n",
      " ['spring' 'rainwater harvesting' 'dam' 'borehole' 'other' 'shallow well'\n",
      " 'river/lake'] \n",
      "\n",
      "\n",
      "source_class 3 \n",
      " ['groundwater' 'surface' 'unknown'] \n",
      "\n",
      "\n",
      "waterpoint_type 7 \n",
      " ['communal standpipe' 'communal standpipe multiple' 'hand pump' 'other'\n",
      " 'improved spring' 'cattle trough' 'dam'] \n",
      "\n",
      "\n",
      "waterpoint_type_group 6 \n",
      " ['communal standpipe' 'hand pump' 'other' 'improved spring'\n",
      " 'cattle trough' 'dam'] \n",
      "\n",
      "\n"
     ]
    }
   ],
   "source": [
    "for i in df_vals.columns:\n",
    "    print(i, df[i].nunique(), \"\\n\", df[i].unique(), \"\\n\\n\")"
   ]
  },
  {
   "cell_type": "markdown",
   "metadata": {},
   "source": [
    "## Missing Values"
   ]
  },
  {
   "cell_type": "code",
   "execution_count": 39,
   "metadata": {},
   "outputs": [
    {
     "data": {
      "text/plain": [
       "id                           0\n",
       "amount_tsh                   0\n",
       "date_recorded                0\n",
       "funder                    3635\n",
       "gps_height                   0\n",
       "installer                 3655\n",
       "longitude                    0\n",
       "latitude                     0\n",
       "wpt_name                     0\n",
       "num_private                  0\n",
       "basin                        0\n",
       "subvillage                 371\n",
       "region                       0\n",
       "region_code                  0\n",
       "district_code                0\n",
       "lga                          0\n",
       "ward                         0\n",
       "population                   0\n",
       "public_meeting            3334\n",
       "recorded_by                  0\n",
       "scheme_management         3877\n",
       "scheme_name              28166\n",
       "permit                    3056\n",
       "construction_year            0\n",
       "extraction_type              0\n",
       "extraction_type_group        0\n",
       "extraction_type_class        0\n",
       "management                   0\n",
       "management_group             0\n",
       "payment                      0\n",
       "payment_type                 0\n",
       "water_quality                0\n",
       "quality_group                0\n",
       "quantity                     0\n",
       "quantity_group               0\n",
       "source                       0\n",
       "source_type                  0\n",
       "source_class                 0\n",
       "waterpoint_type              0\n",
       "waterpoint_type_group        0\n",
       "dtype: int64"
      ]
     },
     "execution_count": 39,
     "metadata": {},
     "output_type": "execute_result"
    }
   ],
   "source": [
    "df_vals.isna().sum()"
   ]
  },
  {
   "cell_type": "code",
   "execution_count": null,
   "metadata": {},
   "outputs": [],
   "source": []
  }
 ],
 "metadata": {
  "kernelspec": {
   "display_name": "Python [conda env:learn-env] *",
   "language": "python",
   "name": "conda-env-learn-env-py"
  },
  "language_info": {
   "codemirror_mode": {
    "name": "ipython",
    "version": 3
   },
   "file_extension": ".py",
   "mimetype": "text/x-python",
   "name": "python",
   "nbconvert_exporter": "python",
   "pygments_lexer": "ipython3",
   "version": "3.6.9"
  },
  "toc": {
   "base_numbering": 1,
   "nav_menu": {},
   "number_sections": true,
   "sideBar": true,
   "skip_h1_title": false,
   "title_cell": "Table of Contents",
   "title_sidebar": "Contents",
   "toc_cell": false,
   "toc_position": {},
   "toc_section_display": true,
   "toc_window_display": false
  },
  "varInspector": {
   "cols": {
    "lenName": 16,
    "lenType": 16,
    "lenVar": 40
   },
   "kernels_config": {
    "python": {
     "delete_cmd_postfix": "",
     "delete_cmd_prefix": "del ",
     "library": "var_list.py",
     "varRefreshCmd": "print(var_dic_list())"
    },
    "r": {
     "delete_cmd_postfix": ") ",
     "delete_cmd_prefix": "rm(",
     "library": "var_list.r",
     "varRefreshCmd": "cat(var_dic_list()) "
    }
   },
   "types_to_exclude": [
    "module",
    "function",
    "builtin_function_or_method",
    "instance",
    "_Feature"
   ],
   "window_display": false
  }
 },
 "nbformat": 4,
 "nbformat_minor": 2
}
